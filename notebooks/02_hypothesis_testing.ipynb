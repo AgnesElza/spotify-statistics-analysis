{
 "cells": [
  {
   "cell_type": "markdown",
   "id": "a0c9a707-c7bc-4396-8c79-60ec3fd724b4",
   "metadata": {},
   "source": [
    "# Hypothesis Testing"
   ]
  },
  {
   "cell_type": "markdown",
   "id": "459d60af-3ffa-47af-906a-9475f3261b64",
   "metadata": {},
   "source": [
    "## Step 1: Load Data"
   ]
  },
  {
   "cell_type": "code",
   "execution_count": 1,
   "id": "0b807915-a357-4529-90f7-3cd5f03832d6",
   "metadata": {},
   "outputs": [],
   "source": [
    "# Imports\n",
    "import pandas as pd\n",
    "import numpy as np\n",
    "import matplotlib.pyplot as plt\n",
    "import seaborn as sns\n",
    "from scipy import stats\n",
    "\n",
    "# Load the cleaned data\n",
    "df = pd.read_feather('../data/spotify_2000_2020.feather')\n",
    "\n",
    "# Add derived columns \n",
    "df['is_hit'] = (df['popularity'] > 80).astype(int)\n",
    "dance_threshold = df['danceability'].quantile(0.75)\n",
    "df['high_danceability'] = (df['danceability'] > dance_threshold).astype(int)"
   ]
  },
  {
   "cell_type": "markdown",
   "id": "c63c7d66-21a3-4f62-a729-7503027dc164",
   "metadata": {},
   "source": [
    "## Step 1: Define Hypothesis\n",
    "### Hypothesis: Does High Danceability Increase Hit Probability?\n",
    "\n",
    "We want to test whether songs with high danceability are significantly more likely to be hits.\n",
    "\n",
    "- **Null Hypothesis (H₀):**  \n",
    "  P(hit | high danceability) = P(hit | not high danceability)\n",
    "\n",
    "- **Alternative Hypothesis (H₁):**  \n",
    "  P(hit | high danceability) > P(hit | not high danceability)\n",
    "\n",
    "We'll conduct a **one-tailed two-proportion z-test** to compare the hit rates between the two groups.\n"
   ]
  },
  {
   "cell_type": "markdown",
   "id": "18cf5f38-26ce-4a06-8efb-9528f4c73446",
   "metadata": {},
   "source": [
    "## Step 2: Compute Group Proportions + Counts"
   ]
  },
  {
   "cell_type": "code",
   "execution_count": 3,
   "id": "193d1628-0569-4760-a45b-7d4f32c94b7e",
   "metadata": {},
   "outputs": [
    {
     "name": "stdout",
     "output_type": "stream",
     "text": [
      "Group A (High Danceability): 224/10333 → p = 0.0217\n",
      "Group B (Not High Danceability): 211/31323 → p = 0.0067\n"
     ]
    }
   ],
   "source": [
    "# Group A: High Danceability\n",
    "group_a = df[df['high_danceability'] == 1]\n",
    "hits_a = group_a['is_hit'].sum()\n",
    "n_a = group_a.shape[0]\n",
    "\n",
    "# Group B: Not High Danceability\n",
    "group_b = df[df['high_danceability'] == 0]\n",
    "hits_b = group_b['is_hit'].sum()\n",
    "n_b = group_b.shape[0]\n",
    "\n",
    "# Print proportions\n",
    "p_a = hits_a / n_a\n",
    "p_b = hits_b / n_b\n",
    "\n",
    "print(f\"Group A (High Danceability): {hits_a}/{n_a} → p = {p_a:.4f}\")\n",
    "print(f\"Group B (Not High Danceability): {hits_b}/{n_b} → p = {p_b:.4f}\")\n"
   ]
  },
  {
   "cell_type": "markdown",
   "id": "09f9ac88-7f40-4508-8cdb-23ff02717705",
   "metadata": {},
   "source": [
    "### Hit Rate Comparison Between Groups\n",
    "\n",
    "- Group A (High Danceability): 224 hits out of 10,333 songs → P = 0.0217\n",
    "\n",
    "- Group B (Not High Danceability): 211 hits out of 31,323 songs → P = 0.0067\n",
    "\n",
    "- This suggests that high-danceability songs have a notably higher hit rate, but we now need to test whether this difference is statistically significant."
   ]
  },
  {
   "cell_type": "markdown",
   "id": "a4aa4a24-d569-4de7-98bf-1b42e3e0d748",
   "metadata": {},
   "source": [
    "## Step 3: Run the Two-Proportion Z-Test\n",
    "### When to Use a Two-Proportion Z-Test\n",
    "Use it when:\n",
    "\n",
    "- You have two independent groups\n",
    "\n",
    "- You're comparing the proportion of success (in our case: hit = 1) between them\n",
    "\n",
    "- The sample sizes are large enough to approximate the normal distribution"
   ]
  },
  {
   "cell_type": "code",
   "execution_count": 5,
   "id": "b4747eab-8bc4-457e-bfe4-adf373647ff8",
   "metadata": {},
   "outputs": [
    {
     "name": "stdout",
     "output_type": "stream",
     "text": [
      "Z-statistic: 12.9564\n",
      "p-value: 0.0000\n"
     ]
    }
   ],
   "source": [
    "from statsmodels.stats.proportion import proportions_ztest\n",
    "\n",
    "# Success counts and sample sizes\n",
    "successes = np.array([hits_a, hits_b])\n",
    "samples = np.array([n_a, n_b])\n",
    "\n",
    "# Run one-tailed z-test (alternative: group A > group B)\n",
    "stat, pval = proportions_ztest(count=successes, nobs=samples, alternative='larger')\n",
    "\n",
    "print(f\"Z-statistic: {stat:.4f}\")\n",
    "print(f\"p-value: {pval:.4f}\")\n"
   ]
  },
  {
   "cell_type": "markdown",
   "id": "1f7c3b64-6c02-46ff-96c0-3678813643ce",
   "metadata": {},
   "source": [
    "### Hypothesis Test Result: Two-Proportion Z-Test\n",
    "Result:\n",
    "\n",
    "- Z-statistic: 12.9564\n",
    "\n",
    "- p-value: < 0.0000 \n",
    "\n",
    "Interpretation:\n",
    "Since the p-value is far below 0.05, we reject the null hypothesis.\n",
    "There is strong statistical evidence that songs with high danceability have a significantly higher chance of becoming hits than songs with lower danceability.\n",
    "\n",
    "This supports the idea that danceability is positively associated with song success, and justifies further exploration via causal inference or Bayesian analysis in future steps."
   ]
  },
  {
   "cell_type": "code",
   "execution_count": null,
   "id": "d6bce0ac-5ce6-4edc-816a-c23d74e0d273",
   "metadata": {},
   "outputs": [],
   "source": []
  }
 ],
 "metadata": {
  "kernelspec": {
   "display_name": "Python 3 (ipykernel)",
   "language": "python",
   "name": "python3"
  },
  "language_info": {
   "codemirror_mode": {
    "name": "ipython",
    "version": 3
   },
   "file_extension": ".py",
   "mimetype": "text/x-python",
   "name": "python",
   "nbconvert_exporter": "python",
   "pygments_lexer": "ipython3",
   "version": "3.10.16"
  }
 },
 "nbformat": 4,
 "nbformat_minor": 5
}
