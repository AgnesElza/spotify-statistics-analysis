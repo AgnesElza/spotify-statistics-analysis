{
 "cells": [
  {
   "cell_type": "code",
   "execution_count": 2,
   "id": "9c9b5d51-6db2-4bd9-8048-82cc79ea262d",
   "metadata": {},
   "outputs": [],
   "source": [
    "# Imports\n",
    "import pandas as pd\n",
    "import numpy as np\n",
    "import matplotlib.pyplot as plt\n",
    "import seaborn as sns\n",
    "import pymc as pm\n",
    "import arviz as az\n",
    "\n",
    "# Load data\n",
    "df = pd.read_feather('../data/spotify_2000_2020.feather')\n",
    "df['is_hit'] = (df['popularity'] > 80).astype(int)\n",
    "df['treatment'] = (df['danceability'] > df['danceability'].quantile(0.75)).astype(int)\n"
   ]
  },
  {
   "cell_type": "markdown",
   "id": "9fb138e5-c6fc-4d5c-b1eb-e1d3b9b72843",
   "metadata": {},
   "source": [
    "## Step 1: Prepare the Data\n",
    "We’ll compare hit rates (is_hit) for:\n",
    "\n",
    "- Treatment: treatment = 1 → high danceability\n",
    "\n",
    "- Control: treatment = 0 → lower danceability"
   ]
  },
  {
   "cell_type": "code",
   "execution_count": 3,
   "id": "18141e6e-7319-4ea8-825f-dacae7439a17",
   "metadata": {},
   "outputs": [
    {
     "name": "stdout",
     "output_type": "stream",
     "text": [
      "Treated: 224/10333 hits\n",
      "Control: 211/31323 hits\n"
     ]
    }
   ],
   "source": [
    "# Split into treated and control groups\n",
    "treated_hits = df[df['treatment'] == 1]['is_hit'].values\n",
    "control_hits = df[df['treatment'] == 0]['is_hit'].values\n",
    "\n",
    "# Count successes and trials\n",
    "success_t = treated_hits.sum()\n",
    "n_t = len(treated_hits)\n",
    "\n",
    "success_c = control_hits.sum()\n",
    "n_c = len(control_hits)\n",
    "\n",
    "print(f\"Treated: {success_t}/{n_t} hits\")\n",
    "print(f\"Control: {success_c}/{n_c} hits\")\n"
   ]
  },
  {
   "cell_type": "markdown",
   "id": "1f581361-3097-48ba-a0ac-6633f9da7268",
   "metadata": {},
   "source": [
    "## Step 2: Define the Bayesian Model in PyMC\n",
    "We’ll model the hit rate in each group using a Beta-Binomial model, which is great for binary outcomes."
   ]
  },
  {
   "cell_type": "code",
   "execution_count": 4,
   "id": "778f8aed-5ce2-4e59-9411-e63fa2461b67",
   "metadata": {},
   "outputs": [
    {
     "name": "stderr",
     "output_type": "stream",
     "text": [
      "Initializing NUTS using jitter+adapt_diag...\n",
      "Multiprocess sampling (4 chains in 4 jobs)\n",
      "NUTS: [p_treated, p_control]\n"
     ]
    },
    {
     "data": {
      "text/html": [
       "<pre style=\"white-space:pre;overflow-x:auto;line-height:normal;font-family:Menlo,'DejaVu Sans Mono',consolas,'Courier New',monospace\">/home/agnes/miniconda3/envs/data-science-env/lib/python3.10/site-packages/rich/live.py:231: UserWarning: install \n",
       "\"ipywidgets\" for Jupyter support\n",
       "  warnings.warn('install \"ipywidgets\" for Jupyter support')\n",
       "</pre>\n"
      ],
      "text/plain": [
       "/home/agnes/miniconda3/envs/data-science-env/lib/python3.10/site-packages/rich/live.py:231: UserWarning: install \n",
       "\"ipywidgets\" for Jupyter support\n",
       "  warnings.warn('install \"ipywidgets\" for Jupyter support')\n"
      ]
     },
     "metadata": {},
     "output_type": "display_data"
    },
    {
     "data": {
      "text/html": [
       "<pre style=\"white-space:pre;overflow-x:auto;line-height:normal;font-family:Menlo,'DejaVu Sans Mono',consolas,'Courier New',monospace\"></pre>\n"
      ],
      "text/plain": []
     },
     "metadata": {},
     "output_type": "display_data"
    },
    {
     "name": "stderr",
     "output_type": "stream",
     "text": [
      "Sampling 4 chains for 1_000 tune and 2_000 draw iterations (4_000 + 8_000 draws total) took 2 seconds.\n"
     ]
    }
   ],
   "source": [
    "with pm.Model() as model:\n",
    "    # Priors for hit rates (uniform beta priors)\n",
    "    p_treated = pm.Beta(\"p_treated\", alpha=1, beta=1)\n",
    "    p_control = pm.Beta(\"p_control\", alpha=1, beta=1)\n",
    "\n",
    "    # Likelihoods for observed data\n",
    "    treated_obs = pm.Binomial(\"treated_obs\", n=n_t, p=p_treated, observed=success_t)\n",
    "    control_obs = pm.Binomial(\"control_obs\", n=n_c, p=p_control, observed=success_c)\n",
    "\n",
    "    # Derived: difference in hit rates\n",
    "    diff = pm.Deterministic(\"difference\", p_treated - p_control)\n",
    "\n",
    "    # Sample from the posterior\n",
    "    trace = pm.sample(2000, tune=1000, return_inferencedata=True, random_seed=42)\n"
   ]
  },
  {
   "cell_type": "markdown",
   "id": "73e19668-12d8-4ab4-8cd7-3fa632f4f2e8",
   "metadata": {},
   "source": [
    " Generated posterior distributions for:\n",
    "\n",
    "- p_treated → hit rate for high-danceability songs\n",
    "\n",
    "- p_control → hit rate for low-danceability songs\n",
    "\n",
    "- difference → the causal lift in hit rate"
   ]
  },
  {
   "cell_type": "markdown",
   "id": "ba995166-00d8-4c2f-a510-812b31e4bd7c",
   "metadata": {},
   "source": [
    "## Step 3: Summarize and Visualize the Posterior"
   ]
  },
  {
   "cell_type": "code",
   "execution_count": 5,
   "id": "68c03aed-b9be-4a29-9655-ba4088330e92",
   "metadata": {},
   "outputs": [
    {
     "data": {
      "text/html": [
       "<div>\n",
       "<style scoped>\n",
       "    .dataframe tbody tr th:only-of-type {\n",
       "        vertical-align: middle;\n",
       "    }\n",
       "\n",
       "    .dataframe tbody tr th {\n",
       "        vertical-align: top;\n",
       "    }\n",
       "\n",
       "    .dataframe thead th {\n",
       "        text-align: right;\n",
       "    }\n",
       "</style>\n",
       "<table border=\"1\" class=\"dataframe\">\n",
       "  <thead>\n",
       "    <tr style=\"text-align: right;\">\n",
       "      <th></th>\n",
       "      <th>mean</th>\n",
       "      <th>sd</th>\n",
       "      <th>hdi_2.5%</th>\n",
       "      <th>hdi_97.5%</th>\n",
       "      <th>mcse_mean</th>\n",
       "      <th>mcse_sd</th>\n",
       "      <th>ess_bulk</th>\n",
       "      <th>ess_tail</th>\n",
       "      <th>r_hat</th>\n",
       "    </tr>\n",
       "  </thead>\n",
       "  <tbody>\n",
       "    <tr>\n",
       "      <th>p_treated</th>\n",
       "      <td>0.022</td>\n",
       "      <td>0.001</td>\n",
       "      <td>0.019</td>\n",
       "      <td>0.025</td>\n",
       "      <td>0.0</td>\n",
       "      <td>0.0</td>\n",
       "      <td>8089.0</td>\n",
       "      <td>5842.0</td>\n",
       "      <td>1.0</td>\n",
       "    </tr>\n",
       "    <tr>\n",
       "      <th>p_control</th>\n",
       "      <td>0.007</td>\n",
       "      <td>0.000</td>\n",
       "      <td>0.006</td>\n",
       "      <td>0.008</td>\n",
       "      <td>0.0</td>\n",
       "      <td>0.0</td>\n",
       "      <td>8164.0</td>\n",
       "      <td>5832.0</td>\n",
       "      <td>1.0</td>\n",
       "    </tr>\n",
       "    <tr>\n",
       "      <th>difference</th>\n",
       "      <td>0.015</td>\n",
       "      <td>0.001</td>\n",
       "      <td>0.012</td>\n",
       "      <td>0.018</td>\n",
       "      <td>0.0</td>\n",
       "      <td>0.0</td>\n",
       "      <td>7999.0</td>\n",
       "      <td>5929.0</td>\n",
       "      <td>1.0</td>\n",
       "    </tr>\n",
       "  </tbody>\n",
       "</table>\n",
       "</div>"
      ],
      "text/plain": [
       "             mean     sd  hdi_2.5%  hdi_97.5%  mcse_mean  mcse_sd  ess_bulk  \\\n",
       "p_treated   0.022  0.001     0.019      0.025        0.0      0.0    8089.0   \n",
       "p_control   0.007  0.000     0.006      0.008        0.0      0.0    8164.0   \n",
       "difference  0.015  0.001     0.012      0.018        0.0      0.0    7999.0   \n",
       "\n",
       "            ess_tail  r_hat  \n",
       "p_treated     5842.0    1.0  \n",
       "p_control     5832.0    1.0  \n",
       "difference    5929.0    1.0  "
      ]
     },
     "execution_count": 5,
     "metadata": {},
     "output_type": "execute_result"
    }
   ],
   "source": [
    "# Summary statistics\n",
    "az.summary(trace, hdi_prob=0.95)\n"
   ]
  },
  {
   "cell_type": "code",
   "execution_count": 6,
   "id": "33826b2b-1cfc-4e27-a404-ab3e32649426",
   "metadata": {},
   "outputs": [
    {
     "data": {
      "image/png": "[encoded data removed]",
      "text/plain": [
       "<Figure size 640x480 with 1 Axes>"
      ]
     },
     "metadata": {},
     "output_type": "display_data"
    }
   ],
   "source": [
    "# Plot posterior distribution of difference in hit rate\n",
    "az.plot_posterior(trace, var_names=[\"difference\"], hdi_prob=0.95, ref_val=0)\n",
    "plt.title(\"Posterior Distribution: Difference in Hit Rates\")\n",
    "plt.show()\n"
   ]
  },
  {
   "cell_type": "code",
   "execution_count": null,
   "id": "ffb416fc-b0a6-49ae-9138-d30f76bd7e09",
   "metadata": {},
   "outputs": [],
   "source": []
  }
 ],
 "metadata": {
  "kernelspec": {
   "display_name": "Python 3 (ipykernel)",
   "language": "python",
   "name": "python3"
  },
  "language_info": {
   "codemirror_mode": {
    "name": "ipython",
    "version": 3
   },
   "file_extension": ".py",
   "mimetype": "text/x-python",
   "name": "python",
   "nbconvert_exporter": "python",
   "pygments_lexer": "ipython3",
   "version": "3.10.16"
  }
 },
 "nbformat": 4,
 "nbformat_minor": 5
}
